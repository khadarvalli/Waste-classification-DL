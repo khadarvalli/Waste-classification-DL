{
  "nbformat": 4,
  "nbformat_minor": 0,
  "metadata": {
    "colab": {
      "name": "Waste Classification.ipynb",
      "provenance": [],
      "authorship_tag": "ABX9TyPoRBuLJgqjVvbPEIVWWqOt",
      "include_colab_link": true
    },
    "kernelspec": {
      "name": "python3",
      "display_name": "Python 3"
    },
    "accelerator": "TPU"
  },
  "cells": [
    {
      "cell_type": "markdown",
      "metadata": {
        "id": "view-in-github",
        "colab_type": "text"
      },
      "source": [
        "<a href=\"https://colab.research.google.com/github/roshanappa/Covolutional-Neural-Network/blob/master/Waste%20Classification/Waste_Classification.ipynb\" target=\"_parent\"><img src=\"https://colab.research.google.com/assets/colab-badge.svg\" alt=\"Open In Colab\"/></a>"
      ]
    },
    {
      "cell_type": "markdown",
      "metadata": {
        "id": "lrwCRYvtrsLF",
        "colab_type": "text"
      },
      "source": [
        "## Import Library\n"
      ]
    },
    {
      "cell_type": "markdown",
      "metadata": {
        "id": "yVETQip4Y3K_",
        "colab_type": "text"
      },
      "source": [
        "# Segregated into two classes (Organic and recyclable)\n",
        "\n",
        "\n",
        "- Studied white papers on waste management\n",
        "- Analysed the components of household waste\n",
        "- Segregated into two classes (Organic and recyclable)\n",
        "- Automated the process by using IOT and machine learning\n",
        "- Reduce toxic waste ending in landfills"
      ]
    },
    {
      "cell_type": "markdown",
      "metadata": {
        "id": "Y1iyh77Kfn5U",
        "colab_type": "text"
      },
      "source": [
        "## Import The Libraries"
      ]
    },
    {
      "cell_type": "code",
      "metadata": {
        "id": "_6XngTQAr16w",
        "colab_type": "code",
        "colab": {}
      },
      "source": [
        "import numpy as np\n",
        "import matplotlib.pyplot as plt\n",
        "import seaborn as sns\n",
        "from tensorflow.keras.models import Sequential\n",
        "from tensorflow.keras.layers import Dense,Flatten,Conv2D,MaxPool2D,Dropout\n",
        "from tensorflow.keras.preprocessing.image import ImageDataGenerator,img_to_array,array_to_img\n",
        "from keras.models import Model,load_model\n",
        "from keras.layers.normalization import BatchNormalization\n",
        "from keras.layers.pooling import MaxPooling2D\n",
        "from keras.callbacks import ModelCheckpoint, EarlyStopping, ReduceLROnPlateau\n",
        "from keras.preprocessing.image import ImageDataGenerator\n",
        "from keras import backend as K\n",
        "from sklearn.model_selection import train_test_split\n",
        "from sklearn.metrics import confusion_matrix\n",
        "%matplotlib inline\n",
        "import warnings\n",
        "warnings.filterwarnings('ignore')"
      ],
      "execution_count": 30,
      "outputs": []
    },
    {
      "cell_type": "markdown",
      "metadata": {
        "id": "NpWKK0AhfxTh",
        "colab_type": "text"
      },
      "source": [
        "## Collect The Data."
      ]
    },
    {
      "cell_type": "code",
      "metadata": {
        "id": "MV_nykqHcTwD",
        "colab_type": "code",
        "colab": {}
      },
      "source": [
        "!pip install -q kaggle"
      ],
      "execution_count": 8,
      "outputs": []
    },
    {
      "cell_type": "code",
      "metadata": {
        "id": "dIi47Yboc22G",
        "colab_type": "code",
        "colab": {}
      },
      "source": [
        "!mkdir -p ~/.kaggle"
      ],
      "execution_count": 9,
      "outputs": []
    },
    {
      "cell_type": "code",
      "metadata": {
        "id": "5pvKKWPkeJ9I",
        "colab_type": "code",
        "colab": {}
      },
      "source": [
        "!cp kaggle.json ~/.kaggle/"
      ],
      "execution_count": 10,
      "outputs": []
    },
    {
      "cell_type": "code",
      "metadata": {
        "id": "WH31jdsUeaOt",
        "colab_type": "code",
        "colab": {}
      },
      "source": [
        "!chmod 600 ~/.kaggle/kaggle.json"
      ],
      "execution_count": 11,
      "outputs": []
    },
    {
      "cell_type": "code",
      "metadata": {
        "id": "nrpMkMlhe111",
        "colab_type": "code",
        "colab": {
          "base_uri": "https://localhost:8080/",
          "height": 68
        },
        "outputId": "7c3ce387-57e2-4043-dd88-72a3ee19fd8d"
      },
      "source": [
        "!kaggle datasets download -d techsash/waste-classification-data"
      ],
      "execution_count": 12,
      "outputs": [
        {
          "output_type": "stream",
          "text": [
            "Downloading waste-classification-data.zip to /content\n",
            " 99% 423M/427M [00:03<00:00, 122MB/s]\n",
            "100% 427M/427M [00:03<00:00, 127MB/s]\n"
          ],
          "name": "stdout"
        }
      ]
    },
    {
      "cell_type": "markdown",
      "metadata": {
        "id": "v5IBopmcgU2U",
        "colab_type": "text"
      },
      "source": [
        "## Data Unzip"
      ]
    },
    {
      "cell_type": "code",
      "metadata": {
        "id": "cU9fCAm4gg4q",
        "colab_type": "code",
        "colab": {}
      },
      "source": [
        "import zipfile"
      ],
      "execution_count": 13,
      "outputs": []
    },
    {
      "cell_type": "code",
      "metadata": {
        "id": "fOWJWPf9gkxL",
        "colab_type": "code",
        "colab": {}
      },
      "source": [
        "from zipfile import ZipFile"
      ],
      "execution_count": 15,
      "outputs": []
    },
    {
      "cell_type": "code",
      "metadata": {
        "id": "yVYsqgWef2Ow",
        "colab_type": "code",
        "colab": {}
      },
      "source": [
        "dir = '/content/waste-classification-data.zip'"
      ],
      "execution_count": 16,
      "outputs": []
    },
    {
      "cell_type": "code",
      "metadata": {
        "id": "hucQrQuzg-uT",
        "colab_type": "code",
        "colab": {
          "base_uri": "https://localhost:8080/",
          "height": 34
        },
        "outputId": "b411d5ec-5a7a-477f-d821-57ca5f7bcd79"
      },
      "source": [
        "with ZipFile(dir,'r') as zip:\n",
        "  zip.extractall()\n",
        "  print('Done')"
      ],
      "execution_count": 17,
      "outputs": [
        {
          "output_type": "stream",
          "text": [
            "Done\n"
          ],
          "name": "stdout"
        }
      ]
    },
    {
      "cell_type": "markdown",
      "metadata": {
        "id": "sQrV4roIr9kR",
        "colab_type": "text"
      },
      "source": [
        "### Data understanding\n"
      ]
    },
    {
      "cell_type": "code",
      "metadata": {
        "id": "JtSwbca-r2N4",
        "colab_type": "code",
        "colab": {}
      },
      "source": [
        "train_datagen = ImageDataGenerator(rescale=1./255,shear_range = 0.2,\n",
        "                                   zoom_range = 0.2,\n",
        "                                   horizontal_flip = True)\n",
        "test_datagen  = ImageDataGenerator(rescale=1./255,shear_range = 0.2,\n",
        "                                   zoom_range = 0.2,\n",
        "                                   horizontal_flip = True)"
      ],
      "execution_count": 18,
      "outputs": []
    },
    {
      "cell_type": "markdown",
      "metadata": {
        "id": "efaLVsgGsElR",
        "colab_type": "text"
      },
      "source": [
        "### Data Gathering "
      ]
    },
    {
      "cell_type": "code",
      "metadata": {
        "id": "5-44lzhEr2LJ",
        "colab_type": "code",
        "colab": {}
      },
      "source": [
        "train_directory = '/content/DATASET/TRAIN'\n",
        "test_directory = '/content/DATASET/TEST'"
      ],
      "execution_count": 20,
      "outputs": []
    },
    {
      "cell_type": "code",
      "metadata": {
        "id": "zxjV0bzPr2IS",
        "colab_type": "code",
        "colab": {}
      },
      "source": [
        "batch_size=20\n",
        "target_size=(64,64)\n",
        "class_mode='binary'\n",
        "classes=['O','R']"
      ],
      "execution_count": 21,
      "outputs": []
    },
    {
      "cell_type": "code",
      "metadata": {
        "id": "jPMumIm9r14H",
        "colab_type": "code",
        "colab": {
          "base_uri": "https://localhost:8080/",
          "height": 51
        },
        "outputId": "8e275580-ec79-4c34-9d39-6408dbac4aad"
      },
      "source": [
        "train_data = train_datagen.flow_from_directory(directory=train_directory,target_size=target_size,class_mode=class_mode,batch_size=batch_size)\n",
        "\n",
        "test_data = test_datagen.flow_from_directory(directory=test_directory,target_size=target_size,class_mode=class_mode,batch_size=batch_size)"
      ],
      "execution_count": 22,
      "outputs": [
        {
          "output_type": "stream",
          "text": [
            "Found 22564 images belonging to 2 classes.\n",
            "Found 2513 images belonging to 2 classes.\n"
          ],
          "name": "stdout"
        }
      ]
    },
    {
      "cell_type": "markdown",
      "metadata": {
        "id": "rFaJJ19aahiR",
        "colab_type": "text"
      },
      "source": [
        "## Develope The Model."
      ]
    },
    {
      "cell_type": "code",
      "metadata": {
        "id": "-QAOrSMEag2U",
        "colab_type": "code",
        "colab": {}
      },
      "source": [
        "model = Sequential()\n",
        "model.add(Conv2D(500,kernel_size=(3,3),strides=(1,1),activation='relu',padding='same'))\n",
        "model.add(MaxPool2D(pool_size=(2,2)))\n",
        "model.add(Dropout(0.20))\n",
        "\n",
        "model.add(Conv2D(200,kernel_size=(3,3),strides=(1,1),padding='same',activation='relu',input_shape=(64,64,3)))\n",
        "model.add(MaxPool2D(pool_size=(2,2)))\n",
        "model.add(Dropout(0.20))\n",
        "\n",
        "model.add(Conv2D(128,kernel_size=(3,3),strides=(1,1),activation='relu',padding='same'))\n",
        "model.add(MaxPool2D(pool_size=(2,2)))\n",
        "model.add(Dropout(0.20))\n",
        "\n",
        "model.add(Conv2D(64,kernel_size=(3,3),strides=(1,1),activation='relu',padding='same'))\n",
        "model.add(MaxPool2D(pool_size=(2,2)))\n",
        "model.add(Dropout(0.20))\n",
        "\n",
        "model.add(Flatten())\n",
        "\n",
        "model.add(Dense(128,activation='relu',))\n",
        "model.add(Dropout(0.20))\n",
        "model.add(Dense(1,activation='sigmoid'))"
      ],
      "execution_count": 36,
      "outputs": []
    },
    {
      "cell_type": "markdown",
      "metadata": {
        "id": "LUpkCnwNjeew",
        "colab_type": "text"
      },
      "source": [
        "Save the model when the lowest loss is achieved during epochs training iterations."
      ]
    },
    {
      "cell_type": "code",
      "metadata": {
        "id": "VnsrI_T6jf1f",
        "colab_type": "code",
        "colab": {}
      },
      "source": [
        "checkpoint = ModelCheckpoint(filepath = 'cnn.hdf5', verbose = 1, save_best_only = True)"
      ],
      "execution_count": 39,
      "outputs": []
    },
    {
      "cell_type": "markdown",
      "metadata": {
        "id": "ThtSqQigjlNK",
        "colab_type": "text"
      },
      "source": [
        "Also stop the training the model if the loss is not decreasing with epochs training iterations"
      ]
    },
    {
      "cell_type": "code",
      "metadata": {
        "id": "MjyXcr5PjoxG",
        "colab_type": "code",
        "colab": {}
      },
      "source": [
        "earlystop = EarlyStopping(monitor = 'val_loss', # value being monitored for improvement\n",
        "                          min_delta = 0, #Abs value and is the min change required before we stop\n",
        "                          patience = 15, #Number of epochs we wait before stopping \n",
        "                          verbose = 1,\n",
        "                          restore_best_weights = True) #keeps the best weigths once stopped"
      ],
      "execution_count": 40,
      "outputs": []
    },
    {
      "cell_type": "markdown",
      "metadata": {
        "id": "rDdH3kkNj6MI",
        "colab_type": "text"
      },
      "source": [
        "Reduce the learning rate if improvemnt is not seen for 'patience' number of epochs.This helps to have a smooth learning curve."
      ]
    },
    {
      "cell_type": "code",
      "metadata": {
        "id": "3336tNCxj5ml",
        "colab_type": "code",
        "colab": {}
      },
      "source": [
        "ReduceLR = ReduceLROnPlateau(patience=3, verbose=1)"
      ],
      "execution_count": 41,
      "outputs": []
    },
    {
      "cell_type": "code",
      "metadata": {
        "id": "duqLUhisaZns",
        "colab_type": "code",
        "colab": {}
      },
      "source": [
        "model.compile(optimizer='adam',loss='binary_crossentropy',metrics=['accuracy'])"
      ],
      "execution_count": 42,
      "outputs": []
    },
    {
      "cell_type": "code",
      "metadata": {
        "id": "2XbHCImFl5EV",
        "colab_type": "code",
        "colab": {}
      },
      "source": [
        "callbacks = [earlystop, checkpoint, ReduceLR]"
      ],
      "execution_count": 45,
      "outputs": []
    },
    {
      "cell_type": "code",
      "metadata": {
        "id": "fD7juTXrnM6W",
        "colab_type": "code",
        "colab": {
          "base_uri": "https://localhost:8080/",
          "height": 632
        },
        "outputId": "d9600fdc-d9de-4d6f-e24a-6d3cba2908eb"
      },
      "source": [
        "history = model.fit_generator(train_data, epochs = 7,steps_per_epoch=len(train_data), verbose=1,callbacks = callbacks,validation_data=test_data,validation_steps=1000)"
      ],
      "execution_count": 51,
      "outputs": [
        {
          "output_type": "stream",
          "text": [
            "Epoch 1/7\n",
            "1129/1129 [==============================] - ETA: 0s - loss: 0.4628 - accuracy: 0.7982WARNING:tensorflow:Your input ran out of data; interrupting training. Make sure that your dataset or generator can generate at least `steps_per_epoch * epochs` batches (in this case, 1000 batches). You may need to use the repeat() function when building your dataset.\n",
            "\n",
            "Epoch 00001: val_loss improved from inf to 0.42041, saving model to cnn.hdf5\n",
            "1129/1129 [==============================] - 2865s 3s/step - loss: 0.4628 - accuracy: 0.7982 - val_loss: 0.4204 - val_accuracy: 0.8229\n",
            "Epoch 2/7\n",
            "1129/1129 [==============================] - ETA: 0s - loss: 0.4199 - accuracy: 0.8178WARNING:tensorflow:Early stopping conditioned on metric `val_loss` which is not available. Available metrics are: loss,accuracy\n",
            "WARNING:tensorflow:Can save best model only with val_loss available, skipping.\n",
            "WARNING:tensorflow:Reduce LR on plateau conditioned on metric `val_loss` which is not available. Available metrics are: loss,accuracy,lr\n",
            "1129/1129 [==============================] - 2759s 2s/step - loss: 0.4199 - accuracy: 0.8178\n",
            "Epoch 3/7\n",
            "1129/1129 [==============================] - ETA: 0s - loss: 0.3940 - accuracy: 0.8306WARNING:tensorflow:Early stopping conditioned on metric `val_loss` which is not available. Available metrics are: loss,accuracy\n",
            "WARNING:tensorflow:Can save best model only with val_loss available, skipping.\n",
            "WARNING:tensorflow:Reduce LR on plateau conditioned on metric `val_loss` which is not available. Available metrics are: loss,accuracy,lr\n",
            "1129/1129 [==============================] - 2752s 2s/step - loss: 0.3940 - accuracy: 0.8306\n",
            "Epoch 4/7\n",
            "1129/1129 [==============================] - ETA: 0s - loss: 0.3741 - accuracy: 0.8395WARNING:tensorflow:Early stopping conditioned on metric `val_loss` which is not available. Available metrics are: loss,accuracy\n",
            "WARNING:tensorflow:Can save best model only with val_loss available, skipping.\n",
            "WARNING:tensorflow:Reduce LR on plateau conditioned on metric `val_loss` which is not available. Available metrics are: loss,accuracy,lr\n",
            "1129/1129 [==============================] - 2751s 2s/step - loss: 0.3741 - accuracy: 0.8395\n",
            "Epoch 5/7\n",
            "1129/1129 [==============================] - ETA: 0s - loss: 0.3625 - accuracy: 0.8461WARNING:tensorflow:Early stopping conditioned on metric `val_loss` which is not available. Available metrics are: loss,accuracy\n",
            "WARNING:tensorflow:Can save best model only with val_loss available, skipping.\n",
            "WARNING:tensorflow:Reduce LR on plateau conditioned on metric `val_loss` which is not available. Available metrics are: loss,accuracy,lr\n",
            "1129/1129 [==============================] - 2752s 2s/step - loss: 0.3625 - accuracy: 0.8461\n",
            "Epoch 6/7\n",
            "1129/1129 [==============================] - ETA: 0s - loss: 0.3511 - accuracy: 0.8533WARNING:tensorflow:Early stopping conditioned on metric `val_loss` which is not available. Available metrics are: loss,accuracy\n",
            "WARNING:tensorflow:Can save best model only with val_loss available, skipping.\n",
            "WARNING:tensorflow:Reduce LR on plateau conditioned on metric `val_loss` which is not available. Available metrics are: loss,accuracy,lr\n",
            "1129/1129 [==============================] - 2760s 2s/step - loss: 0.3511 - accuracy: 0.8533\n",
            "Epoch 7/7\n",
            "1129/1129 [==============================] - ETA: 0s - loss: 0.3468 - accuracy: 0.8540WARNING:tensorflow:Early stopping conditioned on metric `val_loss` which is not available. Available metrics are: loss,accuracy\n",
            "WARNING:tensorflow:Can save best model only with val_loss available, skipping.\n",
            "WARNING:tensorflow:Reduce LR on plateau conditioned on metric `val_loss` which is not available. Available metrics are: loss,accuracy,lr\n",
            "1129/1129 [==============================] - 2756s 2s/step - loss: 0.3468 - accuracy: 0.8540\n"
          ],
          "name": "stdout"
        }
      ]
    },
    {
      "cell_type": "code",
      "metadata": {
        "id": "0FoJo24pcQ5Z",
        "colab_type": "code",
        "colab": {}
      },
      "source": [
        "model.save('model.h5')"
      ],
      "execution_count": 52,
      "outputs": []
    },
    {
      "cell_type": "code",
      "metadata": {
        "id": "_6Plhlhlr1y5",
        "colab_type": "code",
        "colab": {
          "base_uri": "https://localhost:8080/",
          "height": 306
        },
        "outputId": "b3be925e-5ee6-4b89-bd36-bc15b40c4f81"
      },
      "source": [
        "history.history"
      ],
      "execution_count": 53,
      "outputs": [
        {
          "output_type": "execute_result",
          "data": {
            "text/plain": [
              "{'accuracy': [0.7981740832328796,\n",
              "  0.817807137966156,\n",
              "  0.8306151628494263,\n",
              "  0.8395231366157532,\n",
              "  0.8461265563964844,\n",
              "  0.8533061742782593,\n",
              "  0.8540152311325073],\n",
              " 'loss': [0.46280786395072937,\n",
              "  0.4198820888996124,\n",
              "  0.3939809203147888,\n",
              "  0.37409597635269165,\n",
              "  0.3625364601612091,\n",
              "  0.35106420516967773,\n",
              "  0.34682443737983704],\n",
              " 'lr': [0.001, 0.001, 0.001, 0.001, 0.001, 0.001, 0.001],\n",
              " 'val_accuracy': [0.8229207992553711],\n",
              " 'val_loss': [0.42040666937828064]}"
            ]
          },
          "metadata": {
            "tags": []
          },
          "execution_count": 53
        }
      ]
    },
    {
      "cell_type": "code",
      "metadata": {
        "id": "WqlqGBfEr1wS",
        "colab_type": "code",
        "colab": {
          "base_uri": "https://localhost:8080/",
          "height": 573
        },
        "outputId": "43817bb0-e62d-4f46-cc04-6f7c199e3abf"
      },
      "source": [
        "import matplotlib.pyplot as plt\n",
        "\n",
        "# Plot training & validation accuracy values\n",
        "plt.plot(history.history['accuracy'])\n",
        "plt.plot(history.history['val_accuracy'])\n",
        "plt.title('Model accuracy')\n",
        "plt.ylabel('Accuracy')\n",
        "plt.xlabel('Epoch')\n",
        "plt.legend(['Train', 'Validate'], loc='upper left')\n",
        "plt.show()\n",
        "\n",
        "# Plot training & validation loss values\n",
        "plt.plot(history.history['loss'])\n",
        "plt.plot(history.history['val_loss'])\n",
        "plt.title('Model loss')\n",
        "plt.ylabel('Loss')\n",
        "plt.xlabel('Epoch')\n",
        "plt.legend(['Train', 'Validate'], loc='upper left')\n",
        "plt.show()"
      ],
      "execution_count": 57,
      "outputs": [
        {
          "output_type": "display_data",
          "data": {
            "image/png": "[encoded data removed]",
            "text/plain": [
              "<Figure size 432x288 with 1 Axes>"
            ]
          },
          "metadata": {
            "tags": [],
            "needs_background": "light"
          }
        },
        {
          "output_type": "display_data",
          "data": {
            "image/png": "[encoded data removed]",
            "text/plain": [
              "<Figure size 432x288 with 1 Axes>"
            ]
          },
          "metadata": {
            "tags": [],
            "needs_background": "light"
          }
        }
      ]
    },
    {
      "cell_type": "markdown",
      "metadata": {
        "id": "zRHx04vRdalj",
        "colab_type": "text"
      },
      "source": [
        "## Cross Varify the Model."
      ]
    },
    {
      "cell_type": "code",
      "metadata": {
        "id": "iU_J73jyz6PK",
        "colab_type": "code",
        "colab": {
          "base_uri": "https://localhost:8080/",
          "height": 88
        },
        "outputId": "70774d31-d34f-4d6b-d1de-a618229dcc7c"
      },
      "source": [
        "scores = model.evaluate_generator(test_data,2513) #1514 testing images\n",
        "print('Test Loss :',scores[0])\n",
        "print('Test Accuracy :',scores[1])"
      ],
      "execution_count": 61,
      "outputs": [
        {
          "output_type": "stream",
          "text": [
            "WARNING:tensorflow:Your input ran out of data; interrupting training. Make sure that your dataset or generator can generate at least `steps_per_epoch * epochs` batches (in this case, 2513 batches). You may need to use the repeat() function when building your dataset.\n",
            "Test Loss : 0.2895572781562805\n",
            "Test Accuracy : 0.8953441977500916\n"
          ],
          "name": "stdout"
        }
      ]
    },
    {
      "cell_type": "code",
      "metadata": {
        "id": "GsfE0YaG0fD_",
        "colab_type": "code",
        "colab": {}
      },
      "source": [
        "predict_generator_score=model.predict_generator(test_data)\n",
        "#predict_generator takes your test data and gives you the output."
      ],
      "execution_count": 63,
      "outputs": []
    },
    {
      "cell_type": "code",
      "metadata": {
        "id": "DfmUmiOL1M7Y",
        "colab_type": "code",
        "colab": {
          "base_uri": "https://localhost:8080/",
          "height": 187
        },
        "outputId": "d057196f-2b44-4237-8b50-c433ba3db16f"
      },
      "source": [
        "predict_generator_score[:10]"
      ],
      "execution_count": 65,
      "outputs": [
        {
          "output_type": "execute_result",
          "data": {
            "text/plain": [
              "array([[0.04623374],\n",
              "       [0.04507282],\n",
              "       [0.9151453 ],\n",
              "       [0.9120903 ],\n",
              "       [0.31406116],\n",
              "       [0.69575965],\n",
              "       [0.00793597],\n",
              "       [0.5159766 ],\n",
              "       [0.13543427],\n",
              "       [0.05812082]], dtype=float32)"
            ]
          },
          "metadata": {
            "tags": []
          },
          "execution_count": 65
        }
      ]
    },
    {
      "cell_type": "code",
      "metadata": {
        "id": "AGWVHysLr1tb",
        "colab_type": "code",
        "colab": {}
      },
      "source": [
        "from tensorflow.keras.preprocessing import image\n",
        "input = image.load_img('/content/organic.jpg',target_size=(64,64))\n",
        "input = img_to_array(input)\n",
        "input = input\n",
        "input = np.expand_dims(input,axis=0)"
      ],
      "execution_count": 66,
      "outputs": []
    },
    {
      "cell_type": "code",
      "metadata": {
        "id": "froP1YLFr1n2",
        "colab_type": "code",
        "colab": {
          "base_uri": "https://localhost:8080/",
          "height": 34
        },
        "outputId": "45efa07a-cd89-41e7-88ca-d70304e255eb"
      },
      "source": [
        "result = model.predict(input)\n",
        "result"
      ],
      "execution_count": 68,
      "outputs": [
        {
          "output_type": "execute_result",
          "data": {
            "text/plain": [
              "array([[0.]], dtype=float32)"
            ]
          },
          "metadata": {
            "tags": []
          },
          "execution_count": 68
        }
      ]
    },
    {
      "cell_type": "code",
      "metadata": {
        "id": "O4h8dIJ9r1lO",
        "colab_type": "code",
        "colab": {
          "base_uri": "https://localhost:8080/",
          "height": 34
        },
        "outputId": "1a3c5281-38aa-4fe3-a9cf-47e406fac9f6"
      },
      "source": [
        "train_data.class_indices"
      ],
      "execution_count": 67,
      "outputs": [
        {
          "output_type": "execute_result",
          "data": {
            "text/plain": [
              "{'O': 0, 'R': 1}"
            ]
          },
          "metadata": {
            "tags": []
          },
          "execution_count": 67
        }
      ]
    },
    {
      "cell_type": "code",
      "metadata": {
        "id": "0bLIK9VFfNC9",
        "colab_type": "code",
        "colab": {
          "base_uri": "https://localhost:8080/",
          "height": 34
        },
        "outputId": "cacd27a7-2877-4304-c6bf-b36fa3e6b16c"
      },
      "source": [
        "if result[0][0]==0:\n",
        "  prediction = 'Orgaic'\n",
        "  print(prediction)\n",
        "else:\n",
        "  prediction = 'Recyclable'\n",
        "  print(prediction)"
      ],
      "execution_count": 69,
      "outputs": [
        {
          "output_type": "stream",
          "text": [
            "Orgaic\n"
          ],
          "name": "stdout"
        }
      ]
    },
    {
      "cell_type": "code",
      "metadata": {
        "id": "i7YMgNJcr1h6",
        "colab_type": "code",
        "colab": {}
      },
      "source": [
        "def prediction_class(input_image,targe_size):\n",
        "  from tensorflow.keras.preprocessing import image\n",
        "  input = image.load_img(input_image,target_size=target_size)\n",
        "  input = img_to_array(input)\n",
        "  input = input/255\n",
        "  input = np.expand_dims(input,axis=0)\n",
        "  result = model.predict(input)\n",
        "  if result[0][0]==0:\n",
        "    prediction = 'Orgaic'\n",
        "    print(prediction)\n",
        "  else:\n",
        "    prediction = 'Recyclable'\n",
        "    print(prediction)"
      ],
      "execution_count": 72,
      "outputs": []
    },
    {
      "cell_type": "code",
      "metadata": {
        "id": "VwJLI3i1g9WV",
        "colab_type": "code",
        "colab": {
          "base_uri": "https://localhost:8080/",
          "height": 34
        },
        "outputId": "27b63133-0a7b-466a-f419-8a0e310e4534"
      },
      "source": [
        "prediction_class('/content/Recyclable.jpg',(64,64))"
      ],
      "execution_count": 73,
      "outputs": [
        {
          "output_type": "stream",
          "text": [
            "Recyclable\n"
          ],
          "name": "stdout"
        }
      ]
    },
    {
      "cell_type": "markdown",
      "metadata": {
        "id": "tqfj1Kpy4e2z",
        "colab_type": "text"
      },
      "source": [
        "Thank You !!\n",
        "\n",
        "Lesser accuracy obtain due to less epoches,If we want it better accuarcy we need change the into the some parameter"
      ]
    }
  ]
}